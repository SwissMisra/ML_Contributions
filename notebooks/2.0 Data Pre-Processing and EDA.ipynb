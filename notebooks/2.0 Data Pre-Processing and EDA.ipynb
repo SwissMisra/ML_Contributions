{
 "cells": [
  {
   "cell_type": "code",
   "execution_count": 1,
   "metadata": {},
   "outputs": [],
   "source": [
    "import pandas as pd\n",
    "import numpy as np\n",
    "import seaborn as sns\n",
    "import matplotlib.pyplot as plt\n",
    "import os\n",
    "from pandas_profiling import ProfileReport"
   ]
  },
  {
   "cell_type": "code",
   "execution_count": 2,
   "metadata": {},
   "outputs": [
    {
     "name": "stdout",
     "output_type": "stream",
     "text": [
      "C:\\Users\\SiddharthaMisra\\Documents\\Springboard\\ML_Contributions\n",
      "C:\\Users\\SiddharthaMisra\\Documents\\Springboard\\ML_Contributions\\data\\raw\n"
     ]
    }
   ],
   "source": [
    "%cd ..\n",
    "%cd data/raw"
   ]
  },
  {
   "cell_type": "code",
   "execution_count": 3,
   "metadata": {},
   "outputs": [],
   "source": [
    "df = pd.read_csv('1.1 Processed Data.csv')\n",
    "df = df.drop(['owner_no.1', 'order_dt.1'], axis=1)"
   ]
  },
  {
   "cell_type": "code",
   "execution_count": 4,
   "metadata": {},
   "outputs": [
    {
     "name": "stdout",
     "output_type": "stream",
     "text": [
      "C:\\Users\\SiddharthaMisra\\Documents\\Springboard\\ML_Contributions\n"
     ]
    }
   ],
   "source": [
    "%cd ..\\.."
   ]
  },
  {
   "cell_type": "code",
   "execution_count": 5,
   "metadata": {},
   "outputs": [
    {
     "name": "stdout",
     "output_type": "stream",
     "text": [
      "C:\\Users\\SiddharthaMisra\\Documents\\Springboard\\ML_Contributions\\reports\n"
     ]
    }
   ],
   "source": [
    "%cd reports"
   ]
  },
  {
   "cell_type": "code",
   "execution_count": null,
   "metadata": {},
   "outputs": [],
   "source": [
    "report1 = ProfileReport(df).to_file(\"Raw Data Profile - Pandas Profiling.html\")"
   ]
  },
  {
   "cell_type": "code",
   "execution_count": 6,
   "metadata": {},
   "outputs": [
    {
     "name": "stdout",
     "output_type": "stream",
     "text": [
      "C:\\Users\\SiddharthaMisra\\Documents\\Springboard\\ML_Contributions\\reports\\figures\n"
     ]
    }
   ],
   "source": [
    "%cd figures"
   ]
  },
  {
   "cell_type": "code",
   "execution_count": null,
   "metadata": {},
   "outputs": [],
   "source": [
    "sns.pairplot(df, height=2, aspect=1)\n",
    "plt.savefig(\"Raw Data - Seaborn Pairplot.png\")\n",
    "plt.show()"
   ]
  },
  {
   "cell_type": "code",
   "execution_count": 9,
   "metadata": {},
   "outputs": [
    {
     "data": {
      "text/plain": [
       "owner_no                                       int64\n",
       "order_dt                              datetime64[ns]\n",
       "tot_ticket_paid_amt                          float64\n",
       "tot_contribution_paid_amt                    float64\n",
       "first_order_dt                        datetime64[ns]\n",
       "first_cont_dt                         datetime64[ns]\n",
       "geo_area_desc                                  int64\n",
       "Prelim Capacity                                int64\n",
       "ltv_tkt_value                                float64\n",
       "Lifetime Giving                              float64\n",
       "prospect_board                                 int64\n",
       "days_to_donation                               int64\n",
       "first_cont_order                               int64\n",
       "first_cont_after                               int64\n",
       "rolling_tkt_sum                              float64\n",
       "channel_desc_3rd Party                         int64\n",
       "channel_desc_At the Performance                int64\n",
       "channel_desc_Chat                              int64\n",
       "channel_desc_Default Channel                   int64\n",
       "channel_desc_Email                             int64\n",
       "channel_desc_Fax                               int64\n",
       "channel_desc_Internal Request                  int64\n",
       "channel_desc_Mail                              int64\n",
       "channel_desc_Mobile                            int64\n",
       "channel_desc_Online                            int64\n",
       "channel_desc_Phone                             int64\n",
       "channel_desc_Telefunding                       int64\n",
       "channel_desc_Walk Up                           int64\n",
       "MOS_desc_External                              int64\n",
       "MOS_desc_Internal                              int64\n",
       "MOS_desc_Ticketing                             int64\n",
       "delivery_desc_Digital                          int64\n",
       "delivery_desc_Do Not Print Tickets             int64\n",
       "delivery_desc_Mail                             int64\n",
       "delivery_desc_Will Call                        int64\n",
       "facility_desc_Academy of Music                 int64\n",
       "facility_desc_Fundraiser                       int64\n",
       "facility_desc_Independence Mall                int64\n",
       "facility_desc_Other                            int64\n",
       "facility_desc_Perelman                         int64\n",
       "facility_desc_Small venue                      int64\n",
       "dtype: object"
      ]
     },
     "execution_count": 9,
     "metadata": {},
     "output_type": "execute_result"
    }
   ],
   "source": [
    "df.dtypes"
   ]
  },
  {
   "cell_type": "code",
   "execution_count": 8,
   "metadata": {},
   "outputs": [],
   "source": [
    "#Create datetime data types\n",
    "df.order_dt=pd.to_datetime(df.order_dt, errors='coerce')\n",
    "df.first_order_dt = pd.to_datetime(df.first_order_dt, errors='coerce')\n",
    "df.first_cont_dt = pd.to_datetime(df.first_cont_dt, errors='coerce')"
   ]
  },
  {
   "cell_type": "code",
   "execution_count": 10,
   "metadata": {},
   "outputs": [
    {
     "data": {
      "image/png": "[encoded data removed]",
      "text/plain": [
       "<Figure size 1440x864 with 6 Axes>"
      ]
     },
     "metadata": {
      "needs_background": "light"
     },
     "output_type": "display_data"
    }
   ],
   "source": [
    "num_cols = [\n",
    "    'tot_ticket_paid_amt',\n",
    "    'tot_contribution_paid_amt',\n",
    "    'ltv_tkt_value',\n",
    "    'Lifetime Giving',\n",
    "    'days_to_donation',\n",
    "    'rolling_tkt_sum'\n",
    "]\n",
    "fig = df[num_cols].hist(layout = (2,3), figsize = (20,12))\n",
    "plt.savefig('Histograms of Numerical Data.png')\n",
    "plt.show()"
   ]
  },
  {
   "cell_type": "code",
   "execution_count": 11,
   "metadata": {},
   "outputs": [
    {
     "name": "stdout",
     "output_type": "stream",
     "text": [
      "tot_ticket_paid_amt 5400.0 898.0 645.0 540.0 480.0\n",
      "tot_contribution_paid_amt 5000.0 40.0 10.0 0.0 0.0\n",
      "ltv_tkt_value 42312.0 10168.6 7139.0 5434.0 4501.05\n",
      "Lifetime Giving 3417602.0 12858.0 2302.0 1113.24 649.1600000000035\n",
      "days_to_donation 3747 2503.0 1985.0 1635.0 1369.0\n",
      "rolling_tkt_sum 153692.0 14481.569999999789 8468.640000000014 5729.674999999988 3988.1600000000035\n"
     ]
    }
   ],
   "source": [
    "for col in num_cols:\n",
    "    print(col, df[col].max(), df[col].quantile(.99),df[col].quantile(.98), df[col].quantile(.97), df[col].quantile(.96))"
   ]
  },
  {
   "cell_type": "code",
   "execution_count": 15,
   "metadata": {},
   "outputs": [],
   "source": [
    "from sklearn.preprocessing import RobustScaler\n",
    "scaler = RobustScaler()\n",
    "for col in num_cols:\n",
    "    new_col = df[col].values.reshape(-1,1)\n",
    "    df[col] = scaler.fit_transform(new_col)"
   ]
  },
  {
   "cell_type": "code",
   "execution_count": 16,
   "metadata": {},
   "outputs": [
    {
     "data": {
      "text/html": [
       "<div>\n",
       "<style scoped>\n",
       "    .dataframe tbody tr th:only-of-type {\n",
       "        vertical-align: middle;\n",
       "    }\n",
       "\n",
       "    .dataframe tbody tr th {\n",
       "        vertical-align: top;\n",
       "    }\n",
       "\n",
       "    .dataframe thead th {\n",
       "        text-align: right;\n",
       "    }\n",
       "</style>\n",
       "<table border=\"1\" class=\"dataframe\">\n",
       "  <thead>\n",
       "    <tr style=\"text-align: right;\">\n",
       "      <th></th>\n",
       "      <th>owner_no</th>\n",
       "      <th>order_dt</th>\n",
       "      <th>tot_ticket_paid_amt</th>\n",
       "      <th>tot_contribution_paid_amt</th>\n",
       "      <th>first_order_dt</th>\n",
       "      <th>first_cont_dt</th>\n",
       "      <th>geo_area_desc</th>\n",
       "      <th>Prelim Capacity</th>\n",
       "      <th>ltv_tkt_value</th>\n",
       "      <th>Lifetime Giving</th>\n",
       "      <th>...</th>\n",
       "      <th>delivery_desc_Digital</th>\n",
       "      <th>delivery_desc_Do Not Print Tickets</th>\n",
       "      <th>delivery_desc_Mail</th>\n",
       "      <th>delivery_desc_Will Call</th>\n",
       "      <th>facility_desc_Academy of Music</th>\n",
       "      <th>facility_desc_Fundraiser</th>\n",
       "      <th>facility_desc_Independence Mall</th>\n",
       "      <th>facility_desc_Other</th>\n",
       "      <th>facility_desc_Perelman</th>\n",
       "      <th>facility_desc_Small venue</th>\n",
       "    </tr>\n",
       "  </thead>\n",
       "  <tbody>\n",
       "    <tr>\n",
       "      <th>0</th>\n",
       "      <td>111</td>\n",
       "      <td>2015-10-07</td>\n",
       "      <td>0.753149</td>\n",
       "      <td>0.0</td>\n",
       "      <td>2015-10-07</td>\n",
       "      <td>1900-01-01</td>\n",
       "      <td>1</td>\n",
       "      <td>5</td>\n",
       "      <td>0.404851</td>\n",
       "      <td>0.0</td>\n",
       "      <td>...</td>\n",
       "      <td>0</td>\n",
       "      <td>0</td>\n",
       "      <td>0</td>\n",
       "      <td>1</td>\n",
       "      <td>1</td>\n",
       "      <td>0</td>\n",
       "      <td>0</td>\n",
       "      <td>0</td>\n",
       "      <td>0</td>\n",
       "      <td>0</td>\n",
       "    </tr>\n",
       "    <tr>\n",
       "      <th>1</th>\n",
       "      <td>111</td>\n",
       "      <td>2016-09-16</td>\n",
       "      <td>0.880801</td>\n",
       "      <td>0.0</td>\n",
       "      <td>2015-10-07</td>\n",
       "      <td>1900-01-01</td>\n",
       "      <td>1</td>\n",
       "      <td>5</td>\n",
       "      <td>0.404851</td>\n",
       "      <td>0.0</td>\n",
       "      <td>...</td>\n",
       "      <td>0</td>\n",
       "      <td>0</td>\n",
       "      <td>0</td>\n",
       "      <td>1</td>\n",
       "      <td>1</td>\n",
       "      <td>0</td>\n",
       "      <td>0</td>\n",
       "      <td>0</td>\n",
       "      <td>0</td>\n",
       "      <td>0</td>\n",
       "    </tr>\n",
       "    <tr>\n",
       "      <th>2</th>\n",
       "      <td>111</td>\n",
       "      <td>2018-09-21</td>\n",
       "      <td>0.319131</td>\n",
       "      <td>0.0</td>\n",
       "      <td>2015-10-07</td>\n",
       "      <td>1900-01-01</td>\n",
       "      <td>1</td>\n",
       "      <td>5</td>\n",
       "      <td>0.404851</td>\n",
       "      <td>0.0</td>\n",
       "      <td>...</td>\n",
       "      <td>0</td>\n",
       "      <td>0</td>\n",
       "      <td>0</td>\n",
       "      <td>1</td>\n",
       "      <td>1</td>\n",
       "      <td>0</td>\n",
       "      <td>0</td>\n",
       "      <td>0</td>\n",
       "      <td>0</td>\n",
       "      <td>0</td>\n",
       "    </tr>\n",
       "    <tr>\n",
       "      <th>3</th>\n",
       "      <td>258</td>\n",
       "      <td>2014-09-28</td>\n",
       "      <td>0.951010</td>\n",
       "      <td>0.0</td>\n",
       "      <td>2014-09-28</td>\n",
       "      <td>1900-01-01</td>\n",
       "      <td>5</td>\n",
       "      <td>6</td>\n",
       "      <td>0.037313</td>\n",
       "      <td>0.0</td>\n",
       "      <td>...</td>\n",
       "      <td>0</td>\n",
       "      <td>0</td>\n",
       "      <td>0</td>\n",
       "      <td>1</td>\n",
       "      <td>1</td>\n",
       "      <td>0</td>\n",
       "      <td>0</td>\n",
       "      <td>0</td>\n",
       "      <td>0</td>\n",
       "      <td>0</td>\n",
       "    </tr>\n",
       "    <tr>\n",
       "      <th>4</th>\n",
       "      <td>262</td>\n",
       "      <td>2014-10-02</td>\n",
       "      <td>0.159565</td>\n",
       "      <td>0.0</td>\n",
       "      <td>2014-10-02</td>\n",
       "      <td>1900-01-01</td>\n",
       "      <td>2</td>\n",
       "      <td>4</td>\n",
       "      <td>-0.110075</td>\n",
       "      <td>0.0</td>\n",
       "      <td>...</td>\n",
       "      <td>0</td>\n",
       "      <td>0</td>\n",
       "      <td>0</td>\n",
       "      <td>1</td>\n",
       "      <td>1</td>\n",
       "      <td>0</td>\n",
       "      <td>0</td>\n",
       "      <td>0</td>\n",
       "      <td>0</td>\n",
       "      <td>0</td>\n",
       "    </tr>\n",
       "  </tbody>\n",
       "</table>\n",
       "<p>5 rows × 41 columns</p>\n",
       "</div>"
      ],
      "text/plain": [
       "   owner_no   order_dt  tot_ticket_paid_amt  tot_contribution_paid_amt  \\\n",
       "0       111 2015-10-07             0.753149                        0.0   \n",
       "1       111 2016-09-16             0.880801                        0.0   \n",
       "2       111 2018-09-21             0.319131                        0.0   \n",
       "3       258 2014-09-28             0.951010                        0.0   \n",
       "4       262 2014-10-02             0.159565                        0.0   \n",
       "\n",
       "  first_order_dt first_cont_dt  geo_area_desc  Prelim Capacity  ltv_tkt_value  \\\n",
       "0     2015-10-07    1900-01-01              1                5       0.404851   \n",
       "1     2015-10-07    1900-01-01              1                5       0.404851   \n",
       "2     2015-10-07    1900-01-01              1                5       0.404851   \n",
       "3     2014-09-28    1900-01-01              5                6       0.037313   \n",
       "4     2014-10-02    1900-01-01              2                4      -0.110075   \n",
       "\n",
       "   Lifetime Giving  ...  delivery_desc_Digital  \\\n",
       "0              0.0  ...                      0   \n",
       "1              0.0  ...                      0   \n",
       "2              0.0  ...                      0   \n",
       "3              0.0  ...                      0   \n",
       "4              0.0  ...                      0   \n",
       "\n",
       "   delivery_desc_Do Not Print Tickets  delivery_desc_Mail  \\\n",
       "0                                   0                   0   \n",
       "1                                   0                   0   \n",
       "2                                   0                   0   \n",
       "3                                   0                   0   \n",
       "4                                   0                   0   \n",
       "\n",
       "   delivery_desc_Will Call  facility_desc_Academy of Music  \\\n",
       "0                        1                               1   \n",
       "1                        1                               1   \n",
       "2                        1                               1   \n",
       "3                        1                               1   \n",
       "4                        1                               1   \n",
       "\n",
       "   facility_desc_Fundraiser  facility_desc_Independence Mall  \\\n",
       "0                         0                                0   \n",
       "1                         0                                0   \n",
       "2                         0                                0   \n",
       "3                         0                                0   \n",
       "4                         0                                0   \n",
       "\n",
       "   facility_desc_Other  facility_desc_Perelman  facility_desc_Small venue  \n",
       "0                    0                       0                          0  \n",
       "1                    0                       0                          0  \n",
       "2                    0                       0                          0  \n",
       "3                    0                       0                          0  \n",
       "4                    0                       0                          0  \n",
       "\n",
       "[5 rows x 41 columns]"
      ]
     },
     "execution_count": 16,
     "metadata": {},
     "output_type": "execute_result"
    }
   ],
   "source": [
    "df.head()"
   ]
  },
  {
   "cell_type": "code",
   "execution_count": 17,
   "metadata": {},
   "outputs": [
    {
     "name": "stdout",
     "output_type": "stream",
     "text": [
      "C:\\Users\\SiddharthaMisra\\Documents\\Springboard\\ML_Contributions\n"
     ]
    }
   ],
   "source": [
    "cd ..\\.."
   ]
  },
  {
   "cell_type": "code",
   "execution_count": 18,
   "metadata": {},
   "outputs": [
    {
     "name": "stdout",
     "output_type": "stream",
     "text": [
      "C:\\Users\\SiddharthaMisra\\Documents\\Springboard\\ML_Contributions\\data\\processed\n"
     ]
    }
   ],
   "source": [
    "%cd data\\processed"
   ]
  },
  {
   "cell_type": "code",
   "execution_count": 19,
   "metadata": {},
   "outputs": [],
   "source": [
    "df.to_csv('2.0 Processed Data with Scaled Quantitative Values.csv')"
   ]
  },
  {
   "cell_type": "code",
   "execution_count": 24,
   "metadata": {},
   "outputs": [
    {
     "data": {
      "text/plain": [
       "Index(['owner_no', 'order_dt', 'tot_ticket_paid_amt',\n",
       "       'tot_contribution_paid_amt', 'first_order_dt', 'first_cont_dt',\n",
       "       'geo_area_desc', 'Prelim Capacity', 'ltv_tkt_value', 'Lifetime Giving',\n",
       "       'prospect_board', 'days_to_donation', 'first_cont_order',\n",
       "       'first_cont_after', 'rolling_tkt_sum', 'channel_desc_3rd Party',\n",
       "       'channel_desc_At the Performance', 'channel_desc_Chat',\n",
       "       'channel_desc_Default Channel', 'channel_desc_Email',\n",
       "       'channel_desc_Fax', 'channel_desc_Internal Request',\n",
       "       'channel_desc_Mail', 'channel_desc_Mobile', 'channel_desc_Online',\n",
       "       'channel_desc_Phone', 'channel_desc_Telefunding',\n",
       "       'channel_desc_Walk Up', 'MOS_desc_External', 'MOS_desc_Internal',\n",
       "       'MOS_desc_Ticketing', 'delivery_desc_Digital',\n",
       "       'delivery_desc_Do Not Print Tickets', 'delivery_desc_Mail',\n",
       "       'delivery_desc_Will Call', 'facility_desc_Academy of Music',\n",
       "       'facility_desc_Fundraiser', 'facility_desc_Independence Mall',\n",
       "       'facility_desc_Other', 'facility_desc_Perelman',\n",
       "       'facility_desc_Small venue'],\n",
       "      dtype='object')"
      ]
     },
     "execution_count": 24,
     "metadata": {},
     "output_type": "execute_result"
    }
   ],
   "source": [
    "df.columns"
   ]
  },
  {
   "cell_type": "code",
   "execution_count": 26,
   "metadata": {},
   "outputs": [
    {
     "name": "stdout",
     "output_type": "stream",
     "text": [
      "C:\\Users\\SiddharthaMisra\\Documents\\Springboard\\ML_Contributions\n",
      "C:\\Users\\SiddharthaMisra\\Documents\\Springboard\\ML_Contributions\\reports\n"
     ]
    }
   ],
   "source": [
    "%cd ..\\..\n",
    "%cd reports"
   ]
  },
  {
   "cell_type": "code",
   "execution_count": 27,
   "metadata": {},
   "outputs": [
    {
     "data": {
      "application/vnd.jupyter.widget-view+json": {
       "model_id": "e552eea661a24dfeb1c982da0d23c31b",
       "version_major": 2,
       "version_minor": 0
      },
      "text/plain": [
       "HBox(children=(FloatProgress(value=0.0, description='Summarize dataset', max=55.0, style=ProgressStyle(descrip…"
      ]
     },
     "metadata": {},
     "output_type": "display_data"
    },
    {
     "name": "stdout",
     "output_type": "stream",
     "text": [
      "\n"
     ]
    },
    {
     "data": {
      "application/vnd.jupyter.widget-view+json": {
       "model_id": "2b1429820d464b75b65c039470f38590",
       "version_major": 2,
       "version_minor": 0
      },
      "text/plain": [
       "HBox(children=(FloatProgress(value=0.0, description='Generate report structure', max=1.0, style=ProgressStyle(…"
      ]
     },
     "metadata": {},
     "output_type": "display_data"
    },
    {
     "name": "stdout",
     "output_type": "stream",
     "text": [
      "\n"
     ]
    },
    {
     "data": {
      "application/vnd.jupyter.widget-view+json": {
       "model_id": "031d8f5b2bf0451182c75fcd822dfa60",
       "version_major": 2,
       "version_minor": 0
      },
      "text/plain": [
       "HBox(children=(FloatProgress(value=0.0, description='Render HTML', max=1.0, style=ProgressStyle(description_wi…"
      ]
     },
     "metadata": {},
     "output_type": "display_data"
    },
    {
     "name": "stdout",
     "output_type": "stream",
     "text": [
      "\n"
     ]
    },
    {
     "data": {
      "application/vnd.jupyter.widget-view+json": {
       "model_id": "f035fc70b4794dcd8e5c0bf2261d23e6",
       "version_major": 2,
       "version_minor": 0
      },
      "text/plain": [
       "HBox(children=(FloatProgress(value=0.0, description='Export report to file', max=1.0, style=ProgressStyle(desc…"
      ]
     },
     "metadata": {},
     "output_type": "display_data"
    },
    {
     "name": "stdout",
     "output_type": "stream",
     "text": [
      "\n"
     ]
    }
   ],
   "source": [
    "report2 = ProfileReport(df).to_file(\"Processed Data Profile - Pandas Profiling.html\")"
   ]
  }
 ],
 "metadata": {
  "kernelspec": {
   "display_name": "ML_Contributions",
   "language": "python",
   "name": "ml_contributions"
  },
  "language_info": {
   "codemirror_mode": {
    "name": "ipython",
    "version": 3
   },
   "file_extension": ".py",
   "mimetype": "text/x-python",
   "name": "python",
   "nbconvert_exporter": "python",
   "pygments_lexer": "ipython3",
   "version": "3.8.5"
  }
 },
 "nbformat": 4,
 "nbformat_minor": 2
}
