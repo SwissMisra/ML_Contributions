{
 "cells": [
  {
   "cell_type": "code",
   "execution_count": 1,
   "metadata": {},
   "outputs": [],
   "source": [
    "import pandas as pd\n",
    "import numpy as np\n",
    "import seaborn as sns\n",
    "import matplotlib.pyplot as plt\n",
    "import os\n",
    "from pandas_profiling import ProfileReport"
   ]
  },
  {
   "cell_type": "code",
   "execution_count": 2,
   "metadata": {},
   "outputs": [
    {
     "name": "stdout",
     "output_type": "stream",
     "text": [
      "C:\\Users\\SiddharthaMisra\\Documents\\Springboard\\ML_Contributions\n",
      "C:\\Users\\SiddharthaMisra\\Documents\\Springboard\\ML_Contributions\\data\\raw\n"
     ]
    }
   ],
   "source": [
    "%cd ..\n",
    "%cd data/raw"
   ]
  },
  {
   "cell_type": "code",
   "execution_count": 3,
   "metadata": {},
   "outputs": [],
   "source": [
    "df = pd.read_csv('1.1 Processed Data.csv')\n",
    "df = df.drop(['owner_no.1', 'order_dt.1'], axis=1)"
   ]
  },
  {
   "cell_type": "code",
   "execution_count": 4,
   "metadata": {},
   "outputs": [
    {
     "name": "stdout",
     "output_type": "stream",
     "text": [
      "C:\\Users\\SiddharthaMisra\\Documents\\Springboard\\ML_Contributions\n"
     ]
    }
   ],
   "source": [
    "%cd ..\\.."
   ]
  },
  {
   "cell_type": "code",
   "execution_count": 5,
   "metadata": {},
   "outputs": [
    {
     "name": "stdout",
     "output_type": "stream",
     "text": [
      "C:\\Users\\SiddharthaMisra\\Documents\\Springboard\\ML_Contributions\\reports\n"
     ]
    }
   ],
   "source": [
    "%cd reports"
   ]
  },
  {
   "cell_type": "code",
   "execution_count": null,
   "metadata": {},
   "outputs": [],
   "source": [
    "report1 = ProfileReport(df).to_file(\"Raw Data Profile - Pandas Profiling.html\")"
   ]
  },
  {
   "cell_type": "code",
   "execution_count": 6,
   "metadata": {},
   "outputs": [
    {
     "name": "stdout",
     "output_type": "stream",
     "text": [
      "C:\\Users\\SiddharthaMisra\\Documents\\Springboard\\ML_Contributions\\reports\\figures\n"
     ]
    }
   ],
   "source": [
    "%cd figures"
   ]
  },
  {
   "cell_type": "code",
   "execution_count": null,
   "metadata": {},
   "outputs": [],
   "source": [
    "sns.pairplot(df, height=2, aspect=1)\n",
    "plt.savefig(\"Raw Data - Seaborn Pairplot.png\")\n",
    "plt.show()"
   ]
  },
  {
   "cell_type": "code",
   "execution_count": 7,
   "metadata": {},
   "outputs": [
    {
     "data": {
      "text/plain": [
       "owner_no                                int64\n",
       "order_dt                               object\n",
       "tot_ticket_paid_amt                   float64\n",
       "tot_contribution_paid_amt             float64\n",
       "first_order_dt                         object\n",
       "first_cont_dt                          object\n",
       "geo_area_desc                           int64\n",
       "Prelim Capacity                         int64\n",
       "ltv_tkt_value                         float64\n",
       "Lifetime Giving                       float64\n",
       "prospect_board                          int64\n",
       "days_to_donation                        int64\n",
       "first_cont_order                        int64\n",
       "first_cont_after                        int64\n",
       "rolling_tkt_sum                       float64\n",
       "channel_desc_3rd Party                  int64\n",
       "channel_desc_At the Performance         int64\n",
       "channel_desc_Chat                       int64\n",
       "channel_desc_Default Channel            int64\n",
       "channel_desc_Email                      int64\n",
       "channel_desc_Fax                        int64\n",
       "channel_desc_Internal Request           int64\n",
       "channel_desc_Mail                       int64\n",
       "channel_desc_Mobile                     int64\n",
       "channel_desc_Online                     int64\n",
       "channel_desc_Phone                      int64\n",
       "channel_desc_Telefunding                int64\n",
       "channel_desc_Walk Up                    int64\n",
       "MOS_desc_External                       int64\n",
       "MOS_desc_Internal                       int64\n",
       "MOS_desc_Ticketing                      int64\n",
       "delivery_desc_Digital                   int64\n",
       "delivery_desc_Do Not Print Tickets      int64\n",
       "delivery_desc_Mail                      int64\n",
       "delivery_desc_Will Call                 int64\n",
       "facility_desc_Academy of Music          int64\n",
       "facility_desc_Fundraiser                int64\n",
       "facility_desc_Independence Mall         int64\n",
       "facility_desc_Other                     int64\n",
       "facility_desc_Perelman                  int64\n",
       "facility_desc_Small venue               int64\n",
       "dtype: object"
      ]
     },
     "execution_count": 7,
     "metadata": {},
     "output_type": "execute_result"
    }
   ],
   "source": [
    "df.dtypes"
   ]
  },
  {
   "cell_type": "code",
   "execution_count": 8,
   "metadata": {},
   "outputs": [],
   "source": [
    "#Create datetime data types\n",
    "df.order_dt=pd.to_datetime(df.order_dt, errors='coerce')\n",
    "df.first_order_dt = pd.to_datetime(df.first_order_dt, errors='coerce')\n",
    "df.first_cont_dt = pd.to_datetime(df.first_cont_dt, errors='coerce')"
   ]
  },
  {
   "cell_type": "code",
   "execution_count": 9,
   "metadata": {},
   "outputs": [],
   "source": [
    "num_cols = [\n",
    "    'tot_ticket_paid_amt',\n",
    "    'tot_contribution_paid_amt',\n",
    "    'ltv_tkt_value',\n",
    "    'Lifetime Giving',\n",
    "    'days_to_donation',\n",
    "    'rolling_tkt_sum'\n",
    "]"
   ]
  },
  {
   "cell_type": "code",
   "execution_count": null,
   "metadata": {},
   "outputs": [],
   "source": [
    "fig = df[num_cols].hist(layout = (2,3), figsize = (20,12))\n",
    "plt.savefig('Histograms of Numerical Data.png')\n",
    "plt.show()"
   ]
  },
  {
   "cell_type": "code",
   "execution_count": 10,
   "metadata": {},
   "outputs": [
    {
     "data": {
      "text/html": [
       "<div>\n",
       "<style scoped>\n",
       "    .dataframe tbody tr th:only-of-type {\n",
       "        vertical-align: middle;\n",
       "    }\n",
       "\n",
       "    .dataframe tbody tr th {\n",
       "        vertical-align: top;\n",
       "    }\n",
       "\n",
       "    .dataframe thead th {\n",
       "        text-align: right;\n",
       "    }\n",
       "</style>\n",
       "<table border=\"1\" class=\"dataframe\">\n",
       "  <thead>\n",
       "    <tr style=\"text-align: right;\">\n",
       "      <th></th>\n",
       "      <th>cat</th>\n",
       "      <th>max</th>\n",
       "      <th>99</th>\n",
       "      <th>98</th>\n",
       "      <th>97</th>\n",
       "      <th>96</th>\n",
       "    </tr>\n",
       "  </thead>\n",
       "  <tbody>\n",
       "    <tr>\n",
       "      <th>0</th>\n",
       "      <td>tot_ticket_paid_amt</td>\n",
       "      <td>5400.0</td>\n",
       "      <td>898.00</td>\n",
       "      <td>645.00</td>\n",
       "      <td>540.00</td>\n",
       "      <td>480.00</td>\n",
       "    </tr>\n",
       "    <tr>\n",
       "      <th>1</th>\n",
       "      <td>tot_contribution_paid_amt</td>\n",
       "      <td>5000.0</td>\n",
       "      <td>40.00</td>\n",
       "      <td>10.00</td>\n",
       "      <td>0.00</td>\n",
       "      <td>0.00</td>\n",
       "    </tr>\n",
       "    <tr>\n",
       "      <th>2</th>\n",
       "      <td>ltv_tkt_value</td>\n",
       "      <td>42312.0</td>\n",
       "      <td>10168.60</td>\n",
       "      <td>7139.00</td>\n",
       "      <td>5434.00</td>\n",
       "      <td>4501.05</td>\n",
       "    </tr>\n",
       "    <tr>\n",
       "      <th>3</th>\n",
       "      <td>Lifetime Giving</td>\n",
       "      <td>3417602.0</td>\n",
       "      <td>12858.00</td>\n",
       "      <td>2302.00</td>\n",
       "      <td>1113.24</td>\n",
       "      <td>649.16</td>\n",
       "    </tr>\n",
       "    <tr>\n",
       "      <th>4</th>\n",
       "      <td>days_to_donation</td>\n",
       "      <td>3747.0</td>\n",
       "      <td>2503.00</td>\n",
       "      <td>1985.00</td>\n",
       "      <td>1635.00</td>\n",
       "      <td>1369.00</td>\n",
       "    </tr>\n",
       "    <tr>\n",
       "      <th>5</th>\n",
       "      <td>rolling_tkt_sum</td>\n",
       "      <td>153692.0</td>\n",
       "      <td>14481.57</td>\n",
       "      <td>8468.64</td>\n",
       "      <td>5729.67</td>\n",
       "      <td>3988.16</td>\n",
       "    </tr>\n",
       "  </tbody>\n",
       "</table>\n",
       "</div>"
      ],
      "text/plain": [
       "                         cat        max        99       98       97       96\n",
       "0        tot_ticket_paid_amt     5400.0    898.00   645.00   540.00   480.00\n",
       "1  tot_contribution_paid_amt     5000.0     40.00    10.00     0.00     0.00\n",
       "2              ltv_tkt_value    42312.0  10168.60  7139.00  5434.00  4501.05\n",
       "3            Lifetime Giving  3417602.0  12858.00  2302.00  1113.24   649.16\n",
       "4           days_to_donation     3747.0   2503.00  1985.00  1635.00  1369.00\n",
       "5            rolling_tkt_sum   153692.0  14481.57  8468.64  5729.67  3988.16"
      ]
     },
     "execution_count": 10,
     "metadata": {},
     "output_type": "execute_result"
    }
   ],
   "source": [
    "data = []\n",
    "for col in num_cols:\n",
    "    values = [\n",
    "        col, \n",
    "        round(df[col].max(),2),\n",
    "        round(df[col].quantile(.99),2),\n",
    "        round(df[col].quantile(.98),2),\n",
    "        round(df[col].quantile(.97),2),\n",
    "        round(df[col].quantile(.96),2)\n",
    "    ]\n",
    "    data.append(values)\n",
    "quantile_df = pd.DataFrame(data, columns = ['cat', 'max', '99','98','97','96'])\n",
    "quantile_df"
   ]
  },
  {
   "cell_type": "code",
   "execution_count": 11,
   "metadata": {},
   "outputs": [],
   "source": [
    "num_cols.remove('days_to_donation')\n",
    "for col in num_cols:\n",
    "    new_values = df[col].replace(0,0.1)\n",
    "    df[col] = np.log(new_values)"
   ]
  },
  {
   "cell_type": "code",
   "execution_count": 13,
   "metadata": {},
   "outputs": [
    {
     "data": {
      "text/html": [
       "<div>\n",
       "<style scoped>\n",
       "    .dataframe tbody tr th:only-of-type {\n",
       "        vertical-align: middle;\n",
       "    }\n",
       "\n",
       "    .dataframe tbody tr th {\n",
       "        vertical-align: top;\n",
       "    }\n",
       "\n",
       "    .dataframe thead th {\n",
       "        text-align: right;\n",
       "    }\n",
       "</style>\n",
       "<table border=\"1\" class=\"dataframe\">\n",
       "  <thead>\n",
       "    <tr style=\"text-align: right;\">\n",
       "      <th></th>\n",
       "      <th>cat</th>\n",
       "      <th>max</th>\n",
       "      <th>99</th>\n",
       "      <th>98</th>\n",
       "      <th>97</th>\n",
       "      <th>96</th>\n",
       "    </tr>\n",
       "  </thead>\n",
       "  <tbody>\n",
       "    <tr>\n",
       "      <th>0</th>\n",
       "      <td>tot_ticket_paid_amt</td>\n",
       "      <td>8.364508</td>\n",
       "      <td>6.731018</td>\n",
       "      <td>6.440947</td>\n",
       "      <td>6.253829</td>\n",
       "      <td>6.165418</td>\n",
       "    </tr>\n",
       "    <tr>\n",
       "      <th>1</th>\n",
       "      <td>tot_contribution_paid_amt</td>\n",
       "      <td>8.517193</td>\n",
       "      <td>3.688879</td>\n",
       "      <td>2.302585</td>\n",
       "      <td>-2.302585</td>\n",
       "      <td>-2.302585</td>\n",
       "    </tr>\n",
       "    <tr>\n",
       "      <th>2</th>\n",
       "      <td>ltv_tkt_value</td>\n",
       "      <td>10.412441</td>\n",
       "      <td>9.051345</td>\n",
       "      <td>8.740960</td>\n",
       "      <td>8.499742</td>\n",
       "      <td>8.284757</td>\n",
       "    </tr>\n",
       "    <tr>\n",
       "      <th>3</th>\n",
       "      <td>Lifetime Giving</td>\n",
       "      <td>11.550726</td>\n",
       "      <td>8.004700</td>\n",
       "      <td>7.091742</td>\n",
       "      <td>6.551080</td>\n",
       "      <td>6.214608</td>\n",
       "    </tr>\n",
       "    <tr>\n",
       "      <th>4</th>\n",
       "      <td>rolling_tkt_sum</td>\n",
       "      <td>11.682373</td>\n",
       "      <td>9.332268</td>\n",
       "      <td>8.880035</td>\n",
       "      <td>8.433812</td>\n",
       "      <td>8.132119</td>\n",
       "    </tr>\n",
       "  </tbody>\n",
       "</table>\n",
       "</div>"
      ],
      "text/plain": [
       "                         cat        max        99        98        97  \\\n",
       "0        tot_ticket_paid_amt   8.364508  6.731018  6.440947  6.253829   \n",
       "1  tot_contribution_paid_amt   8.517193  3.688879  2.302585 -2.302585   \n",
       "2              ltv_tkt_value  10.412441  9.051345  8.740960  8.499742   \n",
       "3            Lifetime Giving  11.550726  8.004700  7.091742  6.551080   \n",
       "4            rolling_tkt_sum  11.682373  9.332268  8.880035  8.433812   \n",
       "\n",
       "         96  \n",
       "0  6.165418  \n",
       "1 -2.302585  \n",
       "2  8.284757  \n",
       "3  6.214608  \n",
       "4  8.132119  "
      ]
     },
     "execution_count": 13,
     "metadata": {},
     "output_type": "execute_result"
    }
   ],
   "source": [
    "new_df = df[df.prospect_board == 0]\n",
    "data = []\n",
    "for col in num_cols:\n",
    "    values = [\n",
    "        col, \n",
    "        new_df[col].max(),\n",
    "        new_df[col].quantile(.99),\n",
    "        new_df[col].quantile(.98),\n",
    "        new_df[col].quantile(.97),\n",
    "        new_df[col].quantile(.96)\n",
    "    ]\n",
    "    data.append(values)\n",
    "quantile_df2 = pd.DataFrame(data, columns = ['cat', 'max', '99','98','97','96'])\n",
    "quantile_df2"
   ]
  },
  {
   "cell_type": "markdown",
   "metadata": {},
   "source": [
    "### <center> Examining Collinearity of Independent Variables </center> ###"
   ]
  },
  {
   "cell_type": "markdown",
   "metadata": {},
   "source": [
    "Here, I want to confirm whether the features that reference a customer's status as a donor prospect or Board member or their Lifetime Giving amounts are collinear with any of our target: making a donation on the first order, donating after a first order, or days until making a donation."
   ]
  },
  {
   "cell_type": "code",
   "execution_count": 14,
   "metadata": {},
   "outputs": [
    {
     "data": {
      "text/html": [
       "<div>\n",
       "<style scoped>\n",
       "    .dataframe tbody tr th:only-of-type {\n",
       "        vertical-align: middle;\n",
       "    }\n",
       "\n",
       "    .dataframe tbody tr th {\n",
       "        vertical-align: top;\n",
       "    }\n",
       "\n",
       "    .dataframe thead th {\n",
       "        text-align: right;\n",
       "    }\n",
       "</style>\n",
       "<table border=\"1\" class=\"dataframe\">\n",
       "  <thead>\n",
       "    <tr style=\"text-align: right;\">\n",
       "      <th></th>\n",
       "      <th>VIF</th>\n",
       "      <th>features</th>\n",
       "    </tr>\n",
       "  </thead>\n",
       "  <tbody>\n",
       "    <tr>\n",
       "      <th>0</th>\n",
       "      <td>1.101532</td>\n",
       "      <td>first_cont_order</td>\n",
       "    </tr>\n",
       "    <tr>\n",
       "      <th>1</th>\n",
       "      <td>5.438291</td>\n",
       "      <td>first_cont_after</td>\n",
       "    </tr>\n",
       "    <tr>\n",
       "      <th>2</th>\n",
       "      <td>2.415926</td>\n",
       "      <td>days_to_donation</td>\n",
       "    </tr>\n",
       "    <tr>\n",
       "      <th>3</th>\n",
       "      <td>3.037641</td>\n",
       "      <td>tot_contribution_paid_amt</td>\n",
       "    </tr>\n",
       "    <tr>\n",
       "      <th>4</th>\n",
       "      <td>1.165598</td>\n",
       "      <td>prospect_board</td>\n",
       "    </tr>\n",
       "    <tr>\n",
       "      <th>5</th>\n",
       "      <td>4.904971</td>\n",
       "      <td>Lifetime Giving</td>\n",
       "    </tr>\n",
       "  </tbody>\n",
       "</table>\n",
       "</div>"
      ],
      "text/plain": [
       "        VIF                   features\n",
       "0  1.101532           first_cont_order\n",
       "1  5.438291           first_cont_after\n",
       "2  2.415926           days_to_donation\n",
       "3  3.037641  tot_contribution_paid_amt\n",
       "4  1.165598             prospect_board\n",
       "5  4.904971            Lifetime Giving"
      ]
     },
     "execution_count": 14,
     "metadata": {},
     "output_type": "execute_result"
    }
   ],
   "source": [
    "#Calculate VIF to eliminate collinearity\n",
    "x1 = df[['first_cont_order', 'first_cont_after', 'days_to_donation', 'tot_contribution_paid_amt','prospect_board','Lifetime Giving']]\n",
    "from statsmodels.stats.outliers_influence import variance_inflation_factor\n",
    "variables = x1\n",
    "vif = pd.DataFrame()\n",
    "vif[\"VIF\"] = [variance_inflation_factor(variables.values, i) for i in range(variables.shape[1])]\n",
    "vif[\"features\"] = variables.columns\n",
    "vif"
   ]
  },
  {
   "cell_type": "code",
   "execution_count": 15,
   "metadata": {},
   "outputs": [],
   "source": [
    "from sklearn.preprocessing import RobustScaler\n",
    "scaler = RobustScaler()\n",
    "for col in num_cols:\n",
    "    new_col = df[col].values.reshape(-1,1)\n",
    "    df[col] = scaler.fit_transform(new_col)"
   ]
  },
  {
   "cell_type": "code",
   "execution_count": 16,
   "metadata": {},
   "outputs": [
    {
     "data": {
      "text/html": [
       "<div>\n",
       "<style scoped>\n",
       "    .dataframe tbody tr th:only-of-type {\n",
       "        vertical-align: middle;\n",
       "    }\n",
       "\n",
       "    .dataframe tbody tr th {\n",
       "        vertical-align: top;\n",
       "    }\n",
       "\n",
       "    .dataframe thead th {\n",
       "        text-align: right;\n",
       "    }\n",
       "</style>\n",
       "<table border=\"1\" class=\"dataframe\">\n",
       "  <thead>\n",
       "    <tr style=\"text-align: right;\">\n",
       "      <th></th>\n",
       "      <th>owner_no</th>\n",
       "      <th>order_dt</th>\n",
       "      <th>tot_ticket_paid_amt</th>\n",
       "      <th>tot_contribution_paid_amt</th>\n",
       "      <th>first_order_dt</th>\n",
       "      <th>first_cont_dt</th>\n",
       "      <th>geo_area_desc</th>\n",
       "      <th>Prelim Capacity</th>\n",
       "      <th>ltv_tkt_value</th>\n",
       "      <th>Lifetime Giving</th>\n",
       "      <th>...</th>\n",
       "      <th>delivery_desc_Digital</th>\n",
       "      <th>delivery_desc_Do Not Print Tickets</th>\n",
       "      <th>delivery_desc_Mail</th>\n",
       "      <th>delivery_desc_Will Call</th>\n",
       "      <th>facility_desc_Academy of Music</th>\n",
       "      <th>facility_desc_Fundraiser</th>\n",
       "      <th>facility_desc_Independence Mall</th>\n",
       "      <th>facility_desc_Other</th>\n",
       "      <th>facility_desc_Perelman</th>\n",
       "      <th>facility_desc_Small venue</th>\n",
       "    </tr>\n",
       "  </thead>\n",
       "  <tbody>\n",
       "    <tr>\n",
       "      <th>0</th>\n",
       "      <td>111</td>\n",
       "      <td>2015-10-07</td>\n",
       "      <td>0.262550</td>\n",
       "      <td>0.0</td>\n",
       "      <td>2015-10-07</td>\n",
       "      <td>1900-01-01</td>\n",
       "      <td>1</td>\n",
       "      <td>5</td>\n",
       "      <td>0.104660</td>\n",
       "      <td>0.0</td>\n",
       "      <td>...</td>\n",
       "      <td>0</td>\n",
       "      <td>0</td>\n",
       "      <td>0</td>\n",
       "      <td>1</td>\n",
       "      <td>1</td>\n",
       "      <td>0</td>\n",
       "      <td>0</td>\n",
       "      <td>0</td>\n",
       "      <td>0</td>\n",
       "      <td>0</td>\n",
       "    </tr>\n",
       "    <tr>\n",
       "      <th>1</th>\n",
       "      <td>111</td>\n",
       "      <td>2016-09-16</td>\n",
       "      <td>0.280947</td>\n",
       "      <td>0.0</td>\n",
       "      <td>2015-10-07</td>\n",
       "      <td>1900-01-01</td>\n",
       "      <td>1</td>\n",
       "      <td>5</td>\n",
       "      <td>0.104660</td>\n",
       "      <td>0.0</td>\n",
       "      <td>...</td>\n",
       "      <td>0</td>\n",
       "      <td>0</td>\n",
       "      <td>0</td>\n",
       "      <td>1</td>\n",
       "      <td>1</td>\n",
       "      <td>0</td>\n",
       "      <td>0</td>\n",
       "      <td>0</td>\n",
       "      <td>0</td>\n",
       "      <td>0</td>\n",
       "    </tr>\n",
       "    <tr>\n",
       "      <th>2</th>\n",
       "      <td>111</td>\n",
       "      <td>2018-09-21</td>\n",
       "      <td>0.170287</td>\n",
       "      <td>0.0</td>\n",
       "      <td>2015-10-07</td>\n",
       "      <td>1900-01-01</td>\n",
       "      <td>1</td>\n",
       "      <td>5</td>\n",
       "      <td>0.104660</td>\n",
       "      <td>0.0</td>\n",
       "      <td>...</td>\n",
       "      <td>0</td>\n",
       "      <td>0</td>\n",
       "      <td>0</td>\n",
       "      <td>1</td>\n",
       "      <td>1</td>\n",
       "      <td>0</td>\n",
       "      <td>0</td>\n",
       "      <td>0</td>\n",
       "      <td>0</td>\n",
       "      <td>0</td>\n",
       "    </tr>\n",
       "    <tr>\n",
       "      <th>3</th>\n",
       "      <td>258</td>\n",
       "      <td>2014-09-28</td>\n",
       "      <td>0.290096</td>\n",
       "      <td>0.0</td>\n",
       "      <td>2014-09-28</td>\n",
       "      <td>1900-01-01</td>\n",
       "      <td>5</td>\n",
       "      <td>6</td>\n",
       "      <td>0.014668</td>\n",
       "      <td>0.0</td>\n",
       "      <td>...</td>\n",
       "      <td>0</td>\n",
       "      <td>0</td>\n",
       "      <td>0</td>\n",
       "      <td>1</td>\n",
       "      <td>1</td>\n",
       "      <td>0</td>\n",
       "      <td>0</td>\n",
       "      <td>0</td>\n",
       "      <td>0</td>\n",
       "      <td>0</td>\n",
       "    </tr>\n",
       "    <tr>\n",
       "      <th>4</th>\n",
       "      <td>262</td>\n",
       "      <td>2014-10-02</td>\n",
       "      <td>0.110229</td>\n",
       "      <td>0.0</td>\n",
       "      <td>2014-10-02</td>\n",
       "      <td>1900-01-01</td>\n",
       "      <td>2</td>\n",
       "      <td>4</td>\n",
       "      <td>-0.058711</td>\n",
       "      <td>0.0</td>\n",
       "      <td>...</td>\n",
       "      <td>0</td>\n",
       "      <td>0</td>\n",
       "      <td>0</td>\n",
       "      <td>1</td>\n",
       "      <td>1</td>\n",
       "      <td>0</td>\n",
       "      <td>0</td>\n",
       "      <td>0</td>\n",
       "      <td>0</td>\n",
       "      <td>0</td>\n",
       "    </tr>\n",
       "  </tbody>\n",
       "</table>\n",
       "<p>5 rows × 41 columns</p>\n",
       "</div>"
      ],
      "text/plain": [
       "   owner_no   order_dt  tot_ticket_paid_amt  tot_contribution_paid_amt  \\\n",
       "0       111 2015-10-07             0.262550                        0.0   \n",
       "1       111 2016-09-16             0.280947                        0.0   \n",
       "2       111 2018-09-21             0.170287                        0.0   \n",
       "3       258 2014-09-28             0.290096                        0.0   \n",
       "4       262 2014-10-02             0.110229                        0.0   \n",
       "\n",
       "  first_order_dt first_cont_dt  geo_area_desc  Prelim Capacity  ltv_tkt_value  \\\n",
       "0     2015-10-07    1900-01-01              1                5       0.104660   \n",
       "1     2015-10-07    1900-01-01              1                5       0.104660   \n",
       "2     2015-10-07    1900-01-01              1                5       0.104660   \n",
       "3     2014-09-28    1900-01-01              5                6       0.014668   \n",
       "4     2014-10-02    1900-01-01              2                4      -0.058711   \n",
       "\n",
       "   Lifetime Giving  ...  delivery_desc_Digital  \\\n",
       "0              0.0  ...                      0   \n",
       "1              0.0  ...                      0   \n",
       "2              0.0  ...                      0   \n",
       "3              0.0  ...                      0   \n",
       "4              0.0  ...                      0   \n",
       "\n",
       "   delivery_desc_Do Not Print Tickets  delivery_desc_Mail  \\\n",
       "0                                   0                   0   \n",
       "1                                   0                   0   \n",
       "2                                   0                   0   \n",
       "3                                   0                   0   \n",
       "4                                   0                   0   \n",
       "\n",
       "   delivery_desc_Will Call  facility_desc_Academy of Music  \\\n",
       "0                        1                               1   \n",
       "1                        1                               1   \n",
       "2                        1                               1   \n",
       "3                        1                               1   \n",
       "4                        1                               1   \n",
       "\n",
       "   facility_desc_Fundraiser  facility_desc_Independence Mall  \\\n",
       "0                         0                                0   \n",
       "1                         0                                0   \n",
       "2                         0                                0   \n",
       "3                         0                                0   \n",
       "4                         0                                0   \n",
       "\n",
       "   facility_desc_Other  facility_desc_Perelman  facility_desc_Small venue  \n",
       "0                    0                       0                          0  \n",
       "1                    0                       0                          0  \n",
       "2                    0                       0                          0  \n",
       "3                    0                       0                          0  \n",
       "4                    0                       0                          0  \n",
       "\n",
       "[5 rows x 41 columns]"
      ]
     },
     "execution_count": 16,
     "metadata": {},
     "output_type": "execute_result"
    }
   ],
   "source": [
    "df.head()"
   ]
  },
  {
   "cell_type": "code",
   "execution_count": 17,
   "metadata": {},
   "outputs": [
    {
     "name": "stdout",
     "output_type": "stream",
     "text": [
      "C:\\Users\\SiddharthaMisra\\Documents\\Springboard\\ML_Contributions\n"
     ]
    }
   ],
   "source": [
    "cd ..\\.."
   ]
  },
  {
   "cell_type": "code",
   "execution_count": 18,
   "metadata": {},
   "outputs": [
    {
     "name": "stdout",
     "output_type": "stream",
     "text": [
      "C:\\Users\\SiddharthaMisra\\Documents\\Springboard\\ML_Contributions\\data\\processed\n"
     ]
    }
   ],
   "source": [
    "%cd data\\processed"
   ]
  },
  {
   "cell_type": "code",
   "execution_count": 19,
   "metadata": {},
   "outputs": [],
   "source": [
    "df.to_csv('2.0 Processed Data with Scaled and Log Transformations.csv')"
   ]
  },
  {
   "cell_type": "code",
   "execution_count": null,
   "metadata": {},
   "outputs": [],
   "source": [
    "%cd ..\\..\n",
    "%cd reports"
   ]
  },
  {
   "cell_type": "code",
   "execution_count": null,
   "metadata": {},
   "outputs": [],
   "source": [
    "report2 = ProfileReport(df).to_file(\"Processed Data Profile - Pandas Profiling.html\")"
   ]
  }
 ],
 "metadata": {
  "kernelspec": {
   "display_name": "ML_Contributions",
   "language": "python",
   "name": "ml_contributions"
  },
  "language_info": {
   "codemirror_mode": {
    "name": "ipython",
    "version": 3
   },
   "file_extension": ".py",
   "mimetype": "text/x-python",
   "name": "python",
   "nbconvert_exporter": "python",
   "pygments_lexer": "ipython3",
   "version": "3.8.5"
  }
 },
 "nbformat": 4,
 "nbformat_minor": 2
}
