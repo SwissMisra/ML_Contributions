{
 "cells": [
  {
   "cell_type": "markdown",
   "metadata": {},
   "source": [
    "# <center> Step 1.1 Attempt to Import and Transform Data with PyCaret </center> #\n",
    "\n",
    "In this notebook, I attempted to import, transform, and clean data using the setup() function in PyCaret. From this experiment, my conclusion is that PyCaret may not be a \"one-stop shop\" solution for data cleaning, data imputing, and creating calculated fields. Since my target variables are each calculated fields, I was unable to incorporate them into the raw dataset using methods in PyCaret. \n",
    "\n",
    "Other notebooks in this repository will illustrate how PyCaret is a very capable low-code modeling tool, once you have a processed, \"clean\" dataset.\n",
    "\n",
    "More information about the PyCaret library is available here: www.pycaret.org"
   ]
  },
  {
   "cell_type": "code",
   "execution_count": 1,
   "metadata": {},
   "outputs": [],
   "source": [
    "#Import packages\n",
    "import pandas as pd\n",
    "import re\n",
    "import glob\n",
    "import datetime\n",
    "import numpy as np\n",
    "from pycaret.classification import *"
   ]
  },
  {
   "cell_type": "markdown",
   "metadata": {},
   "source": [
    "### <center> Data Import </center> ###"
   ]
  },
  {
   "cell_type": "code",
   "execution_count": 2,
   "metadata": {},
   "outputs": [
    {
     "data": {
      "text/html": [
       "<div>\n",
       "<style scoped>\n",
       "    .dataframe tbody tr th:only-of-type {\n",
       "        vertical-align: middle;\n",
       "    }\n",
       "\n",
       "    .dataframe tbody tr th {\n",
       "        vertical-align: top;\n",
       "    }\n",
       "\n",
       "    .dataframe thead th {\n",
       "        text-align: right;\n",
       "    }\n",
       "</style>\n",
       "<table border=\"1\" class=\"dataframe\">\n",
       "  <thead>\n",
       "    <tr style=\"text-align: right;\">\n",
       "      <th></th>\n",
       "      <th>owner_no</th>\n",
       "      <th>First Order Date</th>\n",
       "      <th>First Contribution Date</th>\n",
       "      <th>postal_code</th>\n",
       "      <th>state_desc</th>\n",
       "      <th>geo_area_desc</th>\n",
       "      <th>OP Prelim Capacity</th>\n",
       "      <th>LTV Tkt Value</th>\n",
       "      <th>Lifetime Giving</th>\n",
       "    </tr>\n",
       "  </thead>\n",
       "  <tbody>\n",
       "    <tr>\n",
       "      <th>0</th>\n",
       "      <td>2280536</td>\n",
       "      <td>2015-01-01 00:00:00</td>\n",
       "      <td>NaN</td>\n",
       "      <td>8807</td>\n",
       "      <td>New Jersey</td>\n",
       "      <td>2-Greater Philadelphia(70 mi.)</td>\n",
       "      <td>NaN</td>\n",
       "      <td>258.0</td>\n",
       "      <td>NaN</td>\n",
       "    </tr>\n",
       "    <tr>\n",
       "      <th>1</th>\n",
       "      <td>2280550</td>\n",
       "      <td>2015-01-01 00:00:00</td>\n",
       "      <td>NaN</td>\n",
       "      <td>18974</td>\n",
       "      <td>Pennsylvania</td>\n",
       "      <td>1-Philadelphia City (20 mi.)</td>\n",
       "      <td>NaN</td>\n",
       "      <td>153.0</td>\n",
       "      <td>NaN</td>\n",
       "    </tr>\n",
       "    <tr>\n",
       "      <th>2</th>\n",
       "      <td>2280469</td>\n",
       "      <td>2015-01-01 00:00:00</td>\n",
       "      <td>NaN</td>\n",
       "      <td>190068506</td>\n",
       "      <td>Pennsylvania</td>\n",
       "      <td>1-Philadelphia City (20 mi.)</td>\n",
       "      <td>3</td>\n",
       "      <td>210.0</td>\n",
       "      <td>NaN</td>\n",
       "    </tr>\n",
       "    <tr>\n",
       "      <th>3</th>\n",
       "      <td>2269456</td>\n",
       "      <td>2015-01-01 00:00:00</td>\n",
       "      <td>NaN</td>\n",
       "      <td>19403</td>\n",
       "      <td>Pennsylvania</td>\n",
       "      <td>1-Philadelphia City (20 mi.)</td>\n",
       "      <td>4</td>\n",
       "      <td>281.0</td>\n",
       "      <td>NaN</td>\n",
       "    </tr>\n",
       "    <tr>\n",
       "      <th>4</th>\n",
       "      <td>2280674</td>\n",
       "      <td>2015-01-02 00:00:00</td>\n",
       "      <td>NaN</td>\n",
       "      <td>28210</td>\n",
       "      <td>North Carolina</td>\n",
       "      <td>7-USA Balance</td>\n",
       "      <td>3</td>\n",
       "      <td>258.0</td>\n",
       "      <td>NaN</td>\n",
       "    </tr>\n",
       "  </tbody>\n",
       "</table>\n",
       "</div>"
      ],
      "text/plain": [
       "   owner_no     First Order Date First Contribution Date postal_code  \\\n",
       "0   2280536  2015-01-01 00:00:00                     NaN        8807   \n",
       "1   2280550  2015-01-01 00:00:00                     NaN       18974   \n",
       "2   2280469  2015-01-01 00:00:00                     NaN   190068506   \n",
       "3   2269456  2015-01-01 00:00:00                     NaN       19403   \n",
       "4   2280674  2015-01-02 00:00:00                     NaN       28210   \n",
       "\n",
       "       state_desc                   geo_area_desc OP Prelim Capacity  \\\n",
       "0      New Jersey  2-Greater Philadelphia(70 mi.)                NaN   \n",
       "1    Pennsylvania    1-Philadelphia City (20 mi.)                NaN   \n",
       "2    Pennsylvania    1-Philadelphia City (20 mi.)                  3   \n",
       "3    Pennsylvania    1-Philadelphia City (20 mi.)                  4   \n",
       "4  North Carolina                   7-USA Balance                  3   \n",
       "\n",
       "   LTV Tkt Value Lifetime Giving  \n",
       "0          258.0             NaN  \n",
       "1          153.0             NaN  \n",
       "2          210.0             NaN  \n",
       "3          281.0             NaN  \n",
       "4          258.0             NaN  "
      ]
     },
     "execution_count": 2,
     "metadata": {},
     "output_type": "execute_result"
    }
   ],
   "source": [
    "#Import groups of customer data\n",
    "appended_data = []\n",
    "for file in glob.glob('Cust*'):\n",
    "    data = pd.read_csv(file)\n",
    "    appended_data.append(data)\n",
    "cust_df = pd.concat(appended_data)\n",
    "cust_df.head()"
   ]
  },
  {
   "cell_type": "code",
   "execution_count": 3,
   "metadata": {},
   "outputs": [
    {
     "data": {
      "text/html": [
       "<div>\n",
       "<style scoped>\n",
       "    .dataframe tbody tr th:only-of-type {\n",
       "        vertical-align: middle;\n",
       "    }\n",
       "\n",
       "    .dataframe tbody tr th {\n",
       "        vertical-align: top;\n",
       "    }\n",
       "\n",
       "    .dataframe thead th {\n",
       "        text-align: right;\n",
       "    }\n",
       "</style>\n",
       "<table border=\"1\" class=\"dataframe\">\n",
       "  <thead>\n",
       "    <tr style=\"text-align: right;\">\n",
       "      <th></th>\n",
       "      <th>owner_no</th>\n",
       "      <th>order_dt</th>\n",
       "      <th>Count of order_no</th>\n",
       "      <th>channel_desc</th>\n",
       "      <th>MOS_desc</th>\n",
       "      <th>delivery_desc</th>\n",
       "      <th>tot_ticket_paid_amt</th>\n",
       "      <th>tot_contribution_paid_amt</th>\n",
       "      <th>facility_desc</th>\n",
       "      <th>prod_season_desc</th>\n",
       "      <th>num_seats_pur</th>\n",
       "    </tr>\n",
       "  </thead>\n",
       "  <tbody>\n",
       "    <tr>\n",
       "      <th>0</th>\n",
       "      <td>18251</td>\n",
       "      <td>2014-04-24 00:00:00</td>\n",
       "      <td>1</td>\n",
       "      <td>Phone</td>\n",
       "      <td>Ticketing</td>\n",
       "      <td>OP - US Mail</td>\n",
       "      <td>$1044</td>\n",
       "      <td>$6000</td>\n",
       "      <td>Academy of Music</td>\n",
       "      <td>Don Carlo</td>\n",
       "      <td>2</td>\n",
       "    </tr>\n",
       "    <tr>\n",
       "      <th>1</th>\n",
       "      <td>18251</td>\n",
       "      <td>2014-04-24 00:00:00</td>\n",
       "      <td>1</td>\n",
       "      <td>Phone</td>\n",
       "      <td>Ticketing</td>\n",
       "      <td>OP - US Mail</td>\n",
       "      <td>$1044</td>\n",
       "      <td>$6000</td>\n",
       "      <td>Academy of Music</td>\n",
       "      <td>Oscar</td>\n",
       "      <td>2</td>\n",
       "    </tr>\n",
       "    <tr>\n",
       "      <th>2</th>\n",
       "      <td>18251</td>\n",
       "      <td>2014-04-24 00:00:00</td>\n",
       "      <td>1</td>\n",
       "      <td>Phone</td>\n",
       "      <td>Ticketing</td>\n",
       "      <td>OP - US Mail</td>\n",
       "      <td>$1044</td>\n",
       "      <td>$6000</td>\n",
       "      <td>Academy of Music</td>\n",
       "      <td>The Barber of Seville</td>\n",
       "      <td>2</td>\n",
       "    </tr>\n",
       "    <tr>\n",
       "      <th>3</th>\n",
       "      <td>18251</td>\n",
       "      <td>2014-04-24 00:00:00</td>\n",
       "      <td>1</td>\n",
       "      <td>Phone</td>\n",
       "      <td>Ticketing</td>\n",
       "      <td>OP - US Mail</td>\n",
       "      <td>$1044</td>\n",
       "      <td>$6000</td>\n",
       "      <td>General Admission</td>\n",
       "      <td>40th Anniversary Voucher</td>\n",
       "      <td>2</td>\n",
       "    </tr>\n",
       "    <tr>\n",
       "      <th>4</th>\n",
       "      <td>18251</td>\n",
       "      <td>2014-04-24 00:00:00</td>\n",
       "      <td>1</td>\n",
       "      <td>Phone</td>\n",
       "      <td>Ticketing</td>\n",
       "      <td>OP - US Mail</td>\n",
       "      <td>$1044</td>\n",
       "      <td>$6000</td>\n",
       "      <td>Perelman</td>\n",
       "      <td>Ariadne auf Naxos</td>\n",
       "      <td>2</td>\n",
       "    </tr>\n",
       "  </tbody>\n",
       "</table>\n",
       "</div>"
      ],
      "text/plain": [
       "   owner_no             order_dt  Count of order_no channel_desc   MOS_desc  \\\n",
       "0     18251  2014-04-24 00:00:00                  1        Phone  Ticketing   \n",
       "1     18251  2014-04-24 00:00:00                  1        Phone  Ticketing   \n",
       "2     18251  2014-04-24 00:00:00                  1        Phone  Ticketing   \n",
       "3     18251  2014-04-24 00:00:00                  1        Phone  Ticketing   \n",
       "4     18251  2014-04-24 00:00:00                  1        Phone  Ticketing   \n",
       "\n",
       "  delivery_desc tot_ticket_paid_amt tot_contribution_paid_amt  \\\n",
       "0  OP - US Mail               $1044                     $6000   \n",
       "1  OP - US Mail               $1044                     $6000   \n",
       "2  OP - US Mail               $1044                     $6000   \n",
       "3  OP - US Mail               $1044                     $6000   \n",
       "4  OP - US Mail               $1044                     $6000   \n",
       "\n",
       "       facility_desc          prod_season_desc  num_seats_pur  \n",
       "0   Academy of Music                 Don Carlo              2  \n",
       "1   Academy of Music                     Oscar              2  \n",
       "2   Academy of Music     The Barber of Seville              2  \n",
       "3  General Admission  40th Anniversary Voucher              2  \n",
       "4           Perelman         Ariadne auf Naxos              2  "
      ]
     },
     "execution_count": 3,
     "metadata": {},
     "output_type": "execute_result"
    }
   ],
   "source": [
    "#Import groups of order data\n",
    "appended_data = []\n",
    "for file in glob.glob('Ord*'):\n",
    "    data = pd.read_csv(file)\n",
    "    appended_data.append(data)\n",
    "order_df = pd.concat(appended_data)\n",
    "order_df.head()"
   ]
  },
  {
   "cell_type": "code",
   "execution_count": 4,
   "metadata": {},
   "outputs": [
    {
     "data": {
      "text/plain": [
       "(82407, 19)"
      ]
     },
     "execution_count": 4,
     "metadata": {},
     "output_type": "execute_result"
    }
   ],
   "source": [
    "df = pd.merge(order_df, cust_df, how='inner', on = 'owner_no')\n",
    "df.shape"
   ]
  },
  {
   "cell_type": "code",
   "execution_count": 5,
   "metadata": {},
   "outputs": [
    {
     "data": {
      "text/plain": [
       "owner_no                     38522\n",
       "order_dt                      2160\n",
       "Count of order_no               23\n",
       "channel_desc                    20\n",
       "MOS_desc                        21\n",
       "delivery_desc                   17\n",
       "tot_ticket_paid_amt           1286\n",
       "tot_contribution_paid_amt      131\n",
       "facility_desc                   36\n",
       "prod_season_desc                86\n",
       "num_seats_pur                   46\n",
       "First Order Date              2931\n",
       "First Contribution Date       1397\n",
       "postal_code                   8483\n",
       "state_desc                      59\n",
       "geo_area_desc                    7\n",
       "OP Prelim Capacity              12\n",
       "LTV Tkt Value                 2560\n",
       "Lifetime Giving                584\n",
       "dtype: int64"
      ]
     },
     "execution_count": 5,
     "metadata": {},
     "output_type": "execute_result"
    }
   ],
   "source": [
    "df.nunique()"
   ]
  },
  {
   "cell_type": "code",
   "execution_count": 6,
   "metadata": {},
   "outputs": [],
   "source": [
    "df = df.drop([\n",
    "    'prod_season_desc',\n",
    "    'postal_code',\n",
    "    'state_desc',\n",
    "    'Lifetime Giving'\n",
    "], \n",
    "    axis=1\n",
    ")"
   ]
  },
  {
   "cell_type": "code",
   "execution_count": 7,
   "metadata": {},
   "outputs": [
    {
     "data": {
      "text/plain": [
       "owner_no                       int64\n",
       "order_dt                      object\n",
       "Count of order_no              int64\n",
       "channel_desc                  object\n",
       "MOS_desc                      object\n",
       "delivery_desc                 object\n",
       "tot_ticket_paid_amt           object\n",
       "tot_contribution_paid_amt     object\n",
       "facility_desc                 object\n",
       "num_seats_pur                  int64\n",
       "First Order Date              object\n",
       "First Contribution Date       object\n",
       "geo_area_desc                 object\n",
       "OP Prelim Capacity            object\n",
       "LTV Tkt Value                float64\n",
       "dtype: object"
      ]
     },
     "execution_count": 7,
     "metadata": {},
     "output_type": "execute_result"
    }
   ],
   "source": [
    "df.dtypes"
   ]
  },
  {
   "cell_type": "code",
   "execution_count": 8,
   "metadata": {},
   "outputs": [
    {
     "data": {
      "text/plain": [
       "Index(['owner_no', 'order_dt', 'Count of order_no', 'channel_desc', 'MOS_desc',\n",
       "       'delivery_desc', 'tot_ticket_paid_amt', 'tot_contribution_paid_amt',\n",
       "       'facility_desc', 'num_seats_pur', 'First Order Date',\n",
       "       'First Contribution Date', 'geo_area_desc', 'OP Prelim Capacity',\n",
       "       'LTV Tkt Value'],\n",
       "      dtype='object')"
      ]
     },
     "execution_count": 8,
     "metadata": {},
     "output_type": "execute_result"
    }
   ],
   "source": [
    "df.columns"
   ]
  },
  {
   "cell_type": "code",
   "execution_count": 9,
   "metadata": {},
   "outputs": [
    {
     "data": {
      "text/plain": [
       "1-Philadelphia City (20 mi.)      58979\n",
       "2-Greater Philadelphia(70 mi.)    11998\n",
       "7-USA Balance                      4480\n",
       "3-New York City (20 mi.)           3123\n",
       "5-NEC (140 mi. from Philly)        1768\n",
       "4-DC (20 mi.)                      1501\n",
       "6-NEC (210 mi. from Philly)         558\n",
       "Name: geo_area_desc, dtype: int64"
      ]
     },
     "execution_count": 9,
     "metadata": {},
     "output_type": "execute_result"
    }
   ],
   "source": [
    "df.geo_area_desc.value_counts()"
   ]
  },
  {
   "cell_type": "code",
   "execution_count": 10,
   "metadata": {},
   "outputs": [
    {
     "data": {
      "text/plain": [
       "4     14398\n",
       "3     13246\n",
       "U     12557\n",
       "2      7838\n",
       "5      6932\n",
       "1      3625\n",
       "6      2313\n",
       "7       288\n",
       "8       224\n",
       "X        42\n",
       "9        19\n",
       "10        7\n",
       "Name: OP Prelim Capacity, dtype: int64"
      ]
     },
     "execution_count": 10,
     "metadata": {},
     "output_type": "execute_result"
    }
   ],
   "source": [
    "df['OP Prelim Capacity'].value_counts()"
   ]
  },
  {
   "cell_type": "code",
   "execution_count": 11,
   "metadata": {},
   "outputs": [
    {
     "ename": "SystemExit",
     "evalue": "(Value Error): Target parameter doesnt exist in the data provided.",
     "output_type": "error",
     "traceback": [
      "An exception has occurred, use %tb to see the full traceback.\n",
      "\u001b[1;31mSystemExit\u001b[0m\u001b[1;31m:\u001b[0m (Value Error): Target parameter doesnt exist in the data provided.\n"
     ]
    }
   ],
   "source": [
    "#Attempt to setup data for PyCaret\n",
    "df_1 = setup(\n",
    "    data=df, \n",
    "    target = 'first_cont_order',\n",
    "    categorical_features = [\n",
    "        'MOS_desc',\n",
    "        'channel_desc',\n",
    "        'delivery_desc',\n",
    "    ],\n",
    "    ordinal_features = {\n",
    "        'geo_area_desc': [\n",
    "            '1-Philadelphia City (20 mi.)',\n",
    "            '2-Greater Philadelphia(70 mi.)',\n",
    "            '3-New York City (20 mi.)'\n",
    "            '4-DC (20 mi.)',\n",
    "            '5-NEC (140 mi. from Philly)',\n",
    "            '6-NEC (210 mi. from Philly)',\n",
    "            '7-USA Balance'\n",
    "        ],\n",
    "        'OP Prelim Capacity': ['U','X',1,2,3,4,5,6,7,8,9,10]\n",
    "    },\n",
    "    high_cardinality_features = [\n",
    "        'order_dt',\n",
    "        'tot_ticket_paid_amt',\n",
    "        'tot_contribution_paid_amt',\n",
    "        'First Order Date',\n",
    "        'First Contribution Date',\n",
    "        'LTV Tkt Value',\n",
    "    ],\n",
    "    date_features = [\n",
    "        'First Order Date',\n",
    "        'order_dt',\n",
    "        'First Contribution Date'\n",
    "    ],\n",
    "    numeric_features = [\n",
    "        'tot_ticket_paid_amt',\n",
    "        'tot_contribution_paid_amt',\n",
    "        'num_seats_pur',\n",
    "        'first_cont_order',\n",
    "        'first_cont_after',\n",
    "        'LTV Tkt Value'\n",
    "        \n",
    "    ],\n",
    "    combine_rare_levels = True,\n",
    "    remove_multicollinearity = True,\n",
    "    profile = True\n",
    ")"
   ]
  },
  {
   "cell_type": "markdown",
   "metadata": {},
   "source": [
    "In the above method, an error is thrown because we have no target in the raw dataset - all targets for this project stem from calculated features."
   ]
  }
 ],
 "metadata": {
  "kernelspec": {
   "display_name": "ML_Contributions",
   "language": "python",
   "name": "ml_contributions"
  },
  "language_info": {
   "codemirror_mode": {
    "name": "ipython",
    "version": 3
   },
   "file_extension": ".py",
   "mimetype": "text/x-python",
   "name": "python",
   "nbconvert_exporter": "python",
   "pygments_lexer": "ipython3",
   "version": "3.8.5"
  }
 },
 "nbformat": 4,
 "nbformat_minor": 2
}
